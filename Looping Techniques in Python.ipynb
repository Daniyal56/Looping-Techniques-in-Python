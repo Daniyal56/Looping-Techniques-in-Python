{
 "cells": [
  {
   "cell_type": "markdown",
   "metadata": {},
   "source": [
    "# Using enumerate():"
   ]
  },
  {
   "cell_type": "code",
   "execution_count": 7,
   "metadata": {},
   "outputs": [
    {
     "name": "stdout",
     "output_type": "stream",
     "text": [
      "0 the\n",
      "1 big\n",
      "2 bang\n",
      "3 Theory\n"
     ]
    }
   ],
   "source": [
    "for key, value in enumerate(['the', 'big','bang', 'Theory']):\n",
    "    print(key,value)"
   ]
  },
  {
   "cell_type": "code",
   "execution_count": 8,
   "metadata": {},
   "outputs": [
    {
     "name": "stdout",
     "output_type": "stream",
     "text": [
      "0 Ali\n",
      "1 is\n",
      "2 a\n",
      "3 guy\n"
     ]
    }
   ],
   "source": [
    "for x, y in enumerate(['Ali', 'is', 'a','guy']):\n",
    "    print(x,y)"
   ]
  },
  {
   "cell_type": "markdown",
   "metadata": {},
   "source": [
    "# zip() takes two arguments"
   ]
  },
  {
   "cell_type": "code",
   "execution_count": 9,
   "metadata": {},
   "outputs": [
    {
     "name": "stdout",
     "output_type": "stream",
     "text": [
      "What is your name? My name is apple\n",
      "What is your colour? My colour is red\n",
      "What is your shape? My shape is a circle\n"
     ]
    }
   ],
   "source": [
    "x = ['name', 'colour', 'shape'] \n",
    "y = ['apple', 'red', 'a circle']\n",
    "\n",
    "for x, y in zip(x,y):\n",
    "    print(f'What is your {x}? My {x} is {y}')"
   ]
  },
  {
   "cell_type": "code",
   "execution_count": 11,
   "metadata": {},
   "outputs": [
    {
     "name": "stdout",
     "output_type": "stream",
     "text": [
      " What is your name? My name is Ali\n",
      " What is your age? My age is 21\n",
      " What is your profession? My profession is Job\n"
     ]
    }
   ],
   "source": [
    "x = ['name', 'age', 'profession']\n",
    "y = ['Ali', 21, 'Job']\n",
    "\n",
    "for x, y in zip(x,y):\n",
    "    print(f' What is your {x}? My {x} is {y}')"
   ]
  },
  {
   "cell_type": "markdown",
   "metadata": {},
   "source": [
    "# iteritems() using only in dict"
   ]
  },
  {
   "cell_type": "code",
   "execution_count": 15,
   "metadata": {},
   "outputs": [
    {
     "name": "stdout",
     "output_type": "stream",
     "text": [
      "name : Ali\n",
      "age : 11\n",
      "Inst : Saylani\n"
     ]
    }
   ],
   "source": [
    "d = {'name':'Ali', 'age':11, 'Inst':'Saylani'}\n",
    "\n",
    "for x,y in d.items():\n",
    "    print(f'{x} : {y}')"
   ]
  },
  {
   "cell_type": "code",
   "execution_count": 16,
   "metadata": {},
   "outputs": [
    {
     "name": "stdout",
     "output_type": "stream",
     "text": [
      "The key value pair using iteritems is : \n",
      "name Ali\n",
      "age 11\n",
      "Inst Saylani\n"
     ]
    }
   ],
   "source": [
    "print (\"The key value pair using iteritems is : \") \n",
    "for i,j in d.items(): \n",
    "    print(i,j)"
   ]
  },
  {
   "cell_type": "markdown",
   "metadata": {},
   "source": [
    "# Sorted method of list"
   ]
  },
  {
   "cell_type": "code",
   "execution_count": 39,
   "metadata": {},
   "outputs": [
    {
     "name": "stdout",
     "output_type": "stream",
     "text": [
      "1 2 3 4 5 6 7 8 "
     ]
    }
   ],
   "source": [
    "x = [1,8,6,5,4,7,2,3]\n",
    "\n",
    "for y in sorted(x):\n",
    "    print(y,end= ' ')"
   ]
  },
  {
   "cell_type": "code",
   "execution_count": 42,
   "metadata": {},
   "outputs": [
    {
     "name": "stdout",
     "output_type": "stream",
     "text": [
      "['a', 'p', 'p', 'l', 'e']\n",
      "['b', 'a', 'n', 'a', 'n', 'a']\n",
      "['g', 'r', 'a', 'p', 'e']\n",
      "['g', 'u', 'a', 'v', 'a']\n",
      "['g', 'u', 'a', 'v', 'e']\n",
      "['o', 'r', 'a', 'n', 'g', 'e']\n",
      "['p', 'e', 'a', 'r']\n"
     ]
    }
   ],
   "source": [
    "basket = ['guave', 'orange', 'apple', 'pear','guava', 'banana', 'grape']\n",
    "for x in sorted(set(basket)):\n",
    "    print(list(x))"
   ]
  },
  {
   "cell_type": "markdown",
   "metadata": {},
   "source": [
    "# reversed() "
   ]
  },
  {
   "cell_type": "code",
   "execution_count": 5,
   "metadata": {},
   "outputs": [
    {
     "name": "stdout",
     "output_type": "stream",
     "text": [
      "3 1 2 6 5 3 1 "
     ]
    }
   ],
   "source": [
    "lis = [ 1 , 3, 5, 6, 2, 1, 3 ] \n",
    "\n",
    "for x in reversed(lis):\n",
    "    print(x,end=' ')"
   ]
  },
  {
   "cell_type": "code",
   "execution_count": 4,
   "metadata": {},
   "outputs": [
    {
     "name": "stdout",
     "output_type": "stream",
     "text": [
      "1 3 5 6 2 1 3 "
     ]
    }
   ],
   "source": [
    "lis.reverse()\n",
    "for i in range(0,len(lis)):\n",
    "    print(lis[i], end=' ')"
   ]
  },
  {
   "cell_type": "code",
   "execution_count": 54,
   "metadata": {},
   "outputs": [
    {
     "name": "stdout",
     "output_type": "stream",
     "text": [
      "7\n",
      "4\n",
      "1\n"
     ]
    }
   ],
   "source": [
    "for i in reversed(range(1,10,3)):\n",
    "    print(i)\n",
    "    "
   ]
  }
 ],
 "metadata": {
  "kernelspec": {
   "display_name": "Python 3",
   "language": "python",
   "name": "python3"
  },
  "language_info": {
   "codemirror_mode": {
    "name": "ipython",
    "version": 3
   },
   "file_extension": ".py",
   "mimetype": "text/x-python",
   "name": "python",
   "nbconvert_exporter": "python",
   "pygments_lexer": "ipython3",
   "version": "3.7.3"
  }
 },
 "nbformat": 4,
 "nbformat_minor": 2
}
